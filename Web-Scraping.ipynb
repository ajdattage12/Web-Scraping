{
 "cells": [
  {
   "cell_type": "code",
   "execution_count": 1,
   "id": "326ceee1",
   "metadata": {},
   "outputs": [],
   "source": [
    "import requests\n",
    "import re\n",
    "from bs4 import BeautifulSoup"
   ]
  },
  {
   "cell_type": "code",
   "execution_count": 2,
   "id": "388929d5",
   "metadata": {},
   "outputs": [],
   "source": [
    "r = requests.get(\"https://butterfly-conservation.org/uk-butterflies/a-to-z\")\n",
    "soup = BeautifulSoup(r.text)"
   ]
  },
  {
   "cell_type": "code",
   "execution_count": 3,
   "id": "657b7f27",
   "metadata": {},
   "outputs": [],
   "source": [
    "links = soup.find_all(\"a\")"
   ]
  },
  {
   "cell_type": "code",
   "execution_count": 4,
   "id": "fa552617",
   "metadata": {},
   "outputs": [
    {
     "name": "stdout",
     "output_type": "stream",
     "text": [
      "#main-content\n",
      "/\n",
      "#top\n",
      "/how-you-can-help/join\n",
      "/protect\n",
      "/butterflies/identify-a-butterfly\n",
      "/butterflies\n",
      "/moths\n",
      "/how-you-can-help\n",
      "/our-work\n",
      "/news-and-blog\n",
      "/in-your-area\n",
      "/events\n",
      "https://butterflymagazine.org/\n",
      "None\n",
      "/butterflies/identify-a-butterfly\n",
      "/uk-butterflies/a-to-z\n",
      "/european-butterflies/a-to-z\n",
      "/butterflies/recording-and-monitoring\n",
      "/butterflies/why-butterflies-matter\n",
      "/butterflies/the-state-of-britains-butterflies\n",
      "/butterflies/first-butterfly-sightings-2021\n",
      "/how-you-can-help/get-involved/gardening/gardening-for-butterflies\n",
      "/butterflies/uk-butterfly-recorders-meeting\n",
      "#alpha-a\n",
      "#alpha-b\n",
      "#alpha-c\n",
      "#alpha-d\n",
      "#alpha-e\n",
      "#alpha-g\n",
      "#alpha-h\n",
      "#alpha-l\n",
      "#alpha-m\n",
      "#alpha-n\n",
      "#alpha-o\n",
      "#alpha-p\n",
      "#alpha-r\n",
      "#alpha-s\n",
      "#alpha-w\n",
      "/butterflies/adonis-blue\n",
      "/butterflies/black-hairstreak\n",
      "/butterflies/brimstone\n",
      "/butterflies/brown-argus\n",
      "/butterflies/brown-hairstreak\n",
      "/butterflies/chalk-hill-blue\n",
      "/butterflies/chequered-skipper\n",
      "/butterflies/clouded-yellow\n",
      "/butterflies/comma\n",
      "/butterflies/common-blue\n",
      "/butterflies/cryptic-wood-white\n",
      "/butterflies/dark-green-fritillary\n",
      "/butterflies/dingy-skipper\n",
      "/butterflies/duke-of-burgundy\n",
      "/butterflies/essex-skipper\n",
      "/butterflies/gatekeeper\n",
      "/butterflies/glanville-fritillary\n",
      "/butterflies/grayling\n",
      "/butterflies/green-hairstreak\n",
      "/butterflies/green-veined-white\n",
      "/butterflies/grizzled-skipper\n",
      "/butterflies/heath-fritillary\n",
      "/butterflies/high-brown-fritillary\n",
      "/butterflies/holly-blue\n",
      "/butterflies/large-blue\n",
      "/butterflies/large-heath\n",
      "/butterflies/large-skipper\n",
      "/butterflies/large-tortoiseshell\n",
      "/butterflies/large-white\n",
      "/butterflies/lulworth-skipper\n",
      "/butterflies/marbled-white\n",
      "/butterflies/marsh-fritillary\n",
      "/butterflies/meadow-brown\n",
      "/butterflies/monarch\n",
      "/butterflies/mountain-ringlet\n",
      "/butterflies/northern-brown-argus\n",
      "/butterflies/orange-tip\n",
      "/butterflies/painted-lady\n",
      "/butterflies/peacock\n",
      "/butterflies/pearl-bordered-fritillary\n",
      "/butterflies/purple-emperor\n",
      "/butterflies/purple-hairstreak\n",
      "/butterflies/red-admiral\n",
      "/butterflies/ringlet\n",
      "/butterflies/scotch-argus\n",
      "/butterflies/silver-spotted-skipper\n",
      "/butterflies/silver-studded-blue\n",
      "/butterflies/silver-washed-fritillary\n",
      "/butterflies/small-blue\n",
      "/butterflies/small-copper\n",
      "/butterflies/small-heath\n",
      "/butterflies/small-pearl-bordered-fritillary\n",
      "/butterflies/small-skipper\n",
      "/butterflies/small-tortoiseshell\n",
      "/butterflies/small-white\n",
      "/butterflies/speckled-wood\n",
      "/butterflies/swallowtail\n",
      "/butterflies/wall\n",
      "/butterflies/white-admiral\n",
      "/butterflies/white-letter-hairstreak\n",
      "/butterflies/wood-white\n",
      "/\n",
      "mailto:info@butterfly-conservation.org\n",
      "http://headscape.co.uk\n",
      "/about-us/email-newsletter\n",
      "/about-us\n",
      "/about-us/contact\n",
      "/jobs\n",
      "/press-office\n",
      "/legal\n",
      "/privacy-and-cookies\n",
      "https://www.facebook.com/savebutterflies\n",
      "https://twitter.com/savebutterflies\n",
      "https://www.instagram.com/savebutterflies/\n",
      "/our-work/our-strategy\n"
     ]
    }
   ],
   "source": [
    "for link in links:\n",
    "    print(link.attrs.get('href'))"
   ]
  },
  {
   "cell_type": "code",
   "execution_count": 5,
   "id": "90cd129a",
   "metadata": {},
   "outputs": [],
   "source": [
    "hrefs = [link.attrs.get('href') for link in links]"
   ]
  },
  {
   "cell_type": "code",
   "execution_count": 6,
   "id": "c87f1839",
   "metadata": {},
   "outputs": [],
   "source": [
    "butterfly_pages = hrefs[39:100]"
   ]
  },
  {
   "cell_type": "code",
   "execution_count": 7,
   "id": "e8d0fb1e",
   "metadata": {},
   "outputs": [],
   "source": [
    "urls = [\"https://butterfly-conservation.org/\" + page for page in butterfly_pages]"
   ]
  },
  {
   "cell_type": "code",
   "execution_count": 13,
   "id": "7dca3501",
   "metadata": {},
   "outputs": [],
   "source": [
    "def get_butterfly(url):\n",
    "    \"\"\"Request and parse a single butterfly profile page, return a dict of data.\"\"\"\n",
    "    r = requests.get(url)\n",
    "    soup = BeautifulSoup(r.text)\n",
    "\n",
    "    h1 = soup.find(\"h1\")\n",
    "    name = h1.text\n",
    "    name = name.strip()      # strip off whitespace at end of name\n",
    "\n",
    "    family = soup.find(\"li\", text=re.compile(r'Family:*'))\n",
    "    size = soup.find(\"li\", text=re.compile(r'Size:*'))\n",
    "    wing_span = soup.find(\"li\", text=re.compile(r'Wing Span:*'))\n",
    "\n",
    "    return {\n",
    "            'name': name,\n",
    "            'family': peel_data_from_element(family), \n",
    "            'size': peel_data_from_element(size), \n",
    "            'wing span': peel_data_from_element(wing_span),\n",
    "            'url': url,\n",
    "            }\n",
    "\n",
    "def peel_data_from_element(element):\n",
    "    just_text = element.text\n",
    "    return just_text.split(': ')[1]"
   ]
  },
  {
   "cell_type": "code",
   "execution_count": 14,
   "id": "c5867b72",
   "metadata": {},
   "outputs": [
    {
     "name": "stdout",
     "output_type": "stream",
     "text": [
      "{'name': 'Adonis Blue', 'family': 'Blues', 'size': 'Small/Medium', 'wing span': '38mm', 'url': 'https://butterfly-conservation.org//butterflies/adonis-blue'}\n"
     ]
    }
   ],
   "source": [
    "print(get_butterfly(urls[0]))"
   ]
  },
  {
   "cell_type": "code",
   "execution_count": 15,
   "id": "74c57613",
   "metadata": {},
   "outputs": [
    {
     "name": "stdout",
     "output_type": "stream",
     "text": [
      "{'name': 'Black Hairstreak', 'family': 'Hairstreaks', 'size': 'Small/Medium', 'wing span': '37mm', 'url': 'https://butterfly-conservation.org//butterflies/black-hairstreak'}\n"
     ]
    }
   ],
   "source": [
    "print(get_butterfly(urls[1]))"
   ]
  },
  {
   "cell_type": "code",
   "execution_count": 16,
   "id": "7f2c46fa",
   "metadata": {},
   "outputs": [
    {
     "name": "stdout",
     "output_type": "stream",
     "text": [
      "{'name': 'Brimstone', 'family': 'Whites and Yellows\\xa0', 'size': 'Large', 'wing span': '60mm', 'url': 'https://butterfly-conservation.org//butterflies/brimstone'}\n"
     ]
    }
   ],
   "source": [
    "print(get_butterfly(urls[2]))"
   ]
  },
  {
   "cell_type": "code",
   "execution_count": 17,
   "id": "2469859b",
   "metadata": {},
   "outputs": [
    {
     "name": "stdout",
     "output_type": "stream",
     "text": [
      "{'name': 'Brown Argus', 'family': 'Blues', 'size': 'Small', 'wing span': '29mm', 'url': 'https://butterfly-conservation.org//butterflies/brown-argus'}\n"
     ]
    }
   ],
   "source": [
    "print(get_butterfly(urls[3]))"
   ]
  },
  {
   "cell_type": "code",
   "execution_count": 18,
   "id": "3fdd68ff",
   "metadata": {},
   "outputs": [
    {
     "name": "stdout",
     "output_type": "stream",
     "text": [
      "{'name': 'Brown Hairstreak', 'family': 'Hairstreaks', 'size': 'Small/Medium', 'wing span': '38-40mm', 'url': 'https://butterfly-conservation.org//butterflies/brown-hairstreak'}\n"
     ]
    }
   ],
   "source": [
    "print(get_butterfly(urls[4]))"
   ]
  },
  {
   "cell_type": "code",
   "execution_count": 19,
   "id": "3bd187c3",
   "metadata": {},
   "outputs": [
    {
     "name": "stdout",
     "output_type": "stream",
     "text": [
      "{'name': 'Chalk Hill Blue', 'family': 'Blues', 'size': 'Small/Medium', 'wing span': '38mm', 'url': 'https://butterfly-conservation.org//butterflies/chalk-hill-blue'}\n"
     ]
    }
   ],
   "source": [
    "print(get_butterfly(urls[5]))"
   ]
  },
  {
   "cell_type": "code",
   "execution_count": null,
   "id": "b7ac8317",
   "metadata": {},
   "outputs": [],
   "source": []
  }
 ],
 "metadata": {
  "kernelspec": {
   "display_name": "Python 3 (ipykernel)",
   "language": "python",
   "name": "python3"
  },
  "language_info": {
   "codemirror_mode": {
    "name": "ipython",
    "version": 3
   },
   "file_extension": ".py",
   "mimetype": "text/x-python",
   "name": "python",
   "nbconvert_exporter": "python",
   "pygments_lexer": "ipython3",
   "version": "3.9.7"
  }
 },
 "nbformat": 4,
 "nbformat_minor": 5
}
