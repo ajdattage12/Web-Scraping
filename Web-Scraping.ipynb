{
 "cells": [
  {
   "cell_type": "code",
   "execution_count": 2,
   "id": "326ceee1",
   "metadata": {},
   "outputs": [],
   "source": [
    "import requests\n",
    "import re\n",
    "from bs4 import BeautifulSoup"
   ]
  },
  {
   "cell_type": "code",
   "execution_count": 3,
   "id": "388929d5",
   "metadata": {},
   "outputs": [],
   "source": [
    "r = requests.get(\"https://butterfly-conservation.org/uk-butterflies/a-to-z\")\n",
    "soup = BeautifulSoup(r.text)"
   ]
  },
  {
   "cell_type": "code",
   "execution_count": 4,
   "id": "90cd129a",
   "metadata": {},
   "outputs": [],
   "source": [
    "links = soup.find_all(\"a\")\n",
    "hrefs = [link.attrs.get('href') for link in links]\n",
    "butterfly_pages = hrefs[39:100]"
   ]
  },
  {
   "cell_type": "code",
   "execution_count": 5,
   "id": "044e259d",
   "metadata": {},
   "outputs": [],
   "source": [
    "urls = [\"https://butterfly-conservation.org/\" + page for page in butterfly_pages]"
   ]
  },
  {
   "cell_type": "code",
   "execution_count": 9,
   "id": "7dca3501",
   "metadata": {},
   "outputs": [
    {
     "name": "stdout",
     "output_type": "stream",
     "text": [
      "{'name': 'Adonis Blue', 'family': 'Blues', 'size': 'Small/Medium', 'wing span': '38mm', 'url': 'https://butterfly-conservation.org//butterflies/adonis-blue'}\n"
     ]
    }
   ],
   "source": [
    "def get_butterfly(url):\n",
    "    \"\"\"Request and parse a single butterfly profile page, return a dict of data.\"\"\"\n",
    "    r = requests.get(url)\n",
    "    soup = BeautifulSoup(r.text)\n",
    "\n",
    "    h1 = soup.find(\"h1\")\n",
    "    name = h1.text\n",
    "    name = name.strip()      # strip off whitespace at end of name\n",
    "\n",
    "    family = soup.find(\"li\", text=re.compile(r'Family:*'))\n",
    "    size = soup.find(\"li\", text=re.compile(r'Size:*'))\n",
    "    wing_span = soup.find(\"li\", text=re.compile(r'Wing Span:*'))\n",
    "\n",
    "    return {\n",
    "            'name': name,\n",
    "            'family': peel_data_from_element(family), \n",
    "            'size': peel_data_from_element(size), \n",
    "            'wing span': peel_data_from_element(wing_span),\n",
    "            'url': url,\n",
    "            }\n",
    "\n",
    "print(get_butterfly(urls[0]))"
   ]
  },
  {
   "cell_type": "code",
   "execution_count": 10,
   "id": "500d5f6f",
   "metadata": {},
   "outputs": [
    {
     "name": "stdout",
     "output_type": "stream",
     "text": [
      "<function peel_data_from_element at 0x7fae69e883a0>\n"
     ]
    }
   ],
   "source": [
    "def peel_data_from_element(element):\n",
    "    just_text = element.text\n",
    "    return just_text.split(': ')[1]\n"
   ]
  },
  {
   "cell_type": "code",
   "execution_count": null,
   "id": "a632ded1",
   "metadata": {},
   "outputs": [],
   "source": []
  }
 ],
 "metadata": {
  "kernelspec": {
   "display_name": "Python 3 (ipykernel)",
   "language": "python",
   "name": "python3"
  },
  "language_info": {
   "codemirror_mode": {
    "name": "ipython",
    "version": 3
   },
   "file_extension": ".py",
   "mimetype": "text/x-python",
   "name": "python",
   "nbconvert_exporter": "python",
   "pygments_lexer": "ipython3",
   "version": "3.9.7"
  }
 },
 "nbformat": 4,
 "nbformat_minor": 5
}
